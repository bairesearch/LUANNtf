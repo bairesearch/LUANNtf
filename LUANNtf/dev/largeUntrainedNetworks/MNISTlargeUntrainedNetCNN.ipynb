{
  "cells": [
    {
      "cell_type": "markdown",
      "metadata": {
        "id": "9fyMqv0I6N7V"
      },
      "source": [
        "Adapted from [Keras GitHub Example](http://github.com/keras-team/keras/blob/master/examples/mnist_cnn.py) and [Yassine Ghouzam's NB](https://www.kaggle.com/yassineghouzam/introduction-to-cnn-keras-0-997-top-6)\n",
        "\n",
        "TensorFlow 1.x --> TensorFlow 2.x\n",
        "\n",
        "SciKit Learn --> TensorFlow"
      ]
    },
    {
      "cell_type": "markdown",
      "metadata": {
        "id": "Pqubie9M6N7a"
      },
      "source": [
        "# 1. Introduction"
      ]
    },
    {
      "cell_type": "markdown",
      "metadata": {
        "id": "mP-TbLBC6N7a"
      },
      "source": [
        "This tutorial is an introduction to Convolutional Neural Networks using TensorFlow 2.x Keras API. The dataset that we will work it is the MNIST dataset, a dataset of handwritten digits 0-9, and we will use a Sequential CNN to predict which digit was drawn.\n",
        "\n",
        "This model reaches 99.3% accuracy.\n",
        "\n",
        "To prepare our notebook, run the next cell to import the necessary packages and change the accelerator from ```None``` to ```GPU```."
      ]
    },
    {
      "cell_type": "code",
      "execution_count": 30,
      "metadata": {
        "colab": {
          "base_uri": "https://localhost:8080/"
        },
        "id": "DhS7EGDb6N7c",
        "outputId": "1eebc9c8-99f1-40d4-9bec-fe0bcbf9944e"
      },
      "outputs": [
        {
          "output_type": "stream",
          "name": "stdout",
          "text": [
            "2.8.0\n"
          ]
        }
      ],
      "source": [
        "import tensorflow as tf\n",
        "import seaborn as sns\n",
        "import numpy as np\n",
        "import pandas as pd\n",
        "import matplotlib.pyplot as plt\n",
        "import matplotlib.image as mpimg\n",
        "\n",
        "print(tf.__version__)"
      ]
    },
    {
      "cell_type": "markdown",
      "metadata": {
        "id": "KhJiq6jg6N7e"
      },
      "source": [
        "# 2. Data Preprocessing\n",
        "\n",
        "Before building any ML model, it is important to preprocess the data. In fact, data preprocessing will generally take up the most time in any ML pipeline. The following module goes over the steps to preprocess the MNIST dataset for our purposes."
      ]
    },
    {
      "cell_type": "markdown",
      "metadata": {
        "id": "14FxXkn36N7f"
      },
      "source": [
        "## 2.1 Load Data\n",
        "\n",
        "Our first step is to load the data and divide it into a training and testing dataset. The MNIST dataset can be downloaded directly from TensorFlow and has already been divided. Run the next cell to import the data.\n",
        "\n",
        "``` x_train ``` is the dataset of 28x28 images of handwritten digits that the model will be trained on.\n",
        "\n",
        "```y_train``` is the dataset of labels that correspond to ```x_train```. \n",
        "\n",
        "``` x_test ``` is the dataset of 28x28 images of handwritten digits that the model will be tested on.\n",
        "\n",
        "```y_test``` is the dataset of labels that correspond to ```x_test```. "
      ]
    },
    {
      "cell_type": "code",
      "execution_count": 31,
      "metadata": {
        "id": "8efB13kY6N7g"
      },
      "outputs": [],
      "source": [
        "mnist = tf.keras.datasets.mnist\n",
        "(x_train, y_train), (x_test, y_test) = mnist.load_data()"
      ]
    },
    {
      "cell_type": "markdown",
      "metadata": {
        "id": "Ip-IoQOH6N7g"
      },
      "source": [
        "Run the following code to see the counts of each digit present in our training dataset."
      ]
    },
    {
      "cell_type": "code",
      "execution_count": 32,
      "metadata": {
        "colab": {
          "base_uri": "https://localhost:8080/",
          "height": 339
        },
        "id": "lyuCUAZ_6N7h",
        "outputId": "4040bc44-4efb-4838-bb5e-9d0405c0983e"
      },
      "outputs": [
        {
          "output_type": "stream",
          "name": "stderr",
          "text": [
            "/usr/local/lib/python3.7/dist-packages/seaborn/_decorators.py:43: FutureWarning: Pass the following variable as a keyword arg: x. From version 0.12, the only valid positional argument will be `data`, and passing other arguments without an explicit keyword will result in an error or misinterpretation.\n",
            "  FutureWarning\n"
          ]
        },
        {
          "output_type": "execute_result",
          "data": {
            "text/plain": [
              "<matplotlib.axes._subplots.AxesSubplot at 0x7f77ad574350>"
            ]
          },
          "metadata": {},
          "execution_count": 32
        },
        {
          "output_type": "display_data",
          "data": {
            "image/png": "[encoded data removed]",
            "text/plain": [
              "<Figure size 432x288 with 1 Axes>"
            ]
          },
          "metadata": {
            "needs_background": "light"
          }
        }
      ],
      "source": [
        "sns.countplot(y_train)"
      ]
    },
    {
      "cell_type": "markdown",
      "metadata": {
        "id": "xlWna8LC6N7j"
      },
      "source": [
        "There are similar counts for each digit. This is good as the model will have enough images for each class to train the features for each class. There is no need to downsample or upweigh."
      ]
    },
    {
      "cell_type": "markdown",
      "metadata": {
        "id": "qdpy9Xw06N7j"
      },
      "source": [
        "## 2.2 Check for NaN Values"
      ]
    },
    {
      "cell_type": "code",
      "execution_count": 33,
      "metadata": {
        "colab": {
          "base_uri": "https://localhost:8080/"
        },
        "id": "gmlXkZxo6N7k",
        "outputId": "3177ca79-5e39-4a6e-fa9a-4b223716c534"
      },
      "outputs": [
        {
          "output_type": "execute_result",
          "data": {
            "text/plain": [
              "False"
            ]
          },
          "metadata": {},
          "execution_count": 33
        }
      ],
      "source": [
        "np.isnan(x_train).any()"
      ]
    },
    {
      "cell_type": "code",
      "execution_count": 34,
      "metadata": {
        "colab": {
          "base_uri": "https://localhost:8080/"
        },
        "id": "FgQPIArD6N7k",
        "outputId": "421062f9-0150-4d9c-e26a-2407a5e70b0b"
      },
      "outputs": [
        {
          "output_type": "execute_result",
          "data": {
            "text/plain": [
              "False"
            ]
          },
          "metadata": {},
          "execution_count": 34
        }
      ],
      "source": [
        "np.isnan(x_test).any()"
      ]
    },
    {
      "cell_type": "markdown",
      "metadata": {
        "id": "1Xye138C6N7l"
      },
      "source": [
        "There are no NaN values in our dataset. There is no need to preprocess the data to deal with Nan's."
      ]
    },
    {
      "cell_type": "markdown",
      "metadata": {
        "id": "OHQ4yLj_6N7l"
      },
      "source": [
        "## 2.3 Normalization and Reshaping\n",
        "\n",
        "Since the values in our ```x_train``` dataset are 28x28 images, our input shape must be specified so that our model will know what is being inputed.\n",
        "\n",
        "The first convolution layer expects a single 60000x28x28x1 tensor instead of 60000 28x28x1 tensors.\n",
        "\n",
        "Models generally run better on normalized values. The best way to normalize the data depends on each individual dataset. For the MNIST dataset, we want each value to be between 0.0 and 1.0. As all values originally fall under the 0.0-255.0 range, divide by 255.0.\n",
        "\n",
        "Run the following cell to define the ```input_shape``` and to normalize and reshape the data."
      ]
    },
    {
      "cell_type": "code",
      "execution_count": 35,
      "metadata": {
        "id": "jV3cgXgP6N7m"
      },
      "outputs": [],
      "source": [
        "input_shape = (28, 28, 1)\n",
        "\n",
        "x_train=x_train.reshape(x_train.shape[0], x_train.shape[1], x_train.shape[2], 1)\n",
        "x_train=x_train / 255.0\n",
        "x_test = x_test.reshape(x_test.shape[0], x_test.shape[1], x_test.shape[2], 1)\n",
        "x_test=x_test/255.0"
      ]
    },
    {
      "cell_type": "markdown",
      "metadata": {
        "id": "LOOTjHLy6N7m"
      },
      "source": [
        "## 2.4 Label Encoding\n",
        "\n",
        "The labels for the training and the testing dataset are currently categorical and is not continuous. To include categorical dataset in our model, our labels should be converted to one-hot encodings.\n",
        "\n",
        "For example, ```2``` becomes ```[0,0,1,0,0,0,0,0,0,0]``` and ```7``` becomes ```[0,0,0,0,0,0,0,1,0,0]```.\n",
        "\n",
        "Run the following cell to transform the labels into one-hot encodings"
      ]
    },
    {
      "cell_type": "code",
      "execution_count": 36,
      "metadata": {
        "id": "N60OSnQM6N7n"
      },
      "outputs": [],
      "source": [
        "y_train = tf.one_hot(y_train.astype(np.int32), depth=10)\n",
        "y_test = tf.one_hot(y_test.astype(np.int32), depth=10)"
      ]
    },
    {
      "cell_type": "markdown",
      "metadata": {
        "id": "r_VT_27H6N7n"
      },
      "source": [
        "## 2.5 Visualize Data\n",
        "\n",
        "Run the following cell to visualize an image in our dataset."
      ]
    },
    {
      "cell_type": "code",
      "execution_count": 37,
      "metadata": {
        "colab": {
          "base_uri": "https://localhost:8080/",
          "height": 282
        },
        "id": "0dMzhGd16N7o",
        "outputId": "4780c690-9600-4ad3-ef80-d8afcbfd7c2f"
      },
      "outputs": [
        {
          "output_type": "stream",
          "name": "stdout",
          "text": [
            "tf.Tensor([0. 0. 0. 0. 0. 1. 0. 0. 0. 0.], shape=(10,), dtype=float32)\n"
          ]
        },
        {
          "output_type": "display_data",
          "data": {
            "image/png": "[encoded data removed]",
            "text/plain": [
              "<Figure size 432x288 with 1 Axes>"
            ]
          },
          "metadata": {
            "needs_background": "light"
          }
        }
      ],
      "source": [
        "plt.imshow(x_train[100][:,:,0])\n",
        "print(y_train[100])"
      ]
    },
    {
      "cell_type": "markdown",
      "metadata": {
        "id": "mDAQvbMv6N7o"
      },
      "source": [
        "The image is an image of a handwritten ```5```. The one-hot encoding holds the value of ```5```."
      ]
    },
    {
      "cell_type": "markdown",
      "metadata": {
        "id": "VkI6R7p_6N7p"
      },
      "source": [
        "# 3. CNN\n",
        "\n",
        "In this module, we will build our CNN model."
      ]
    },
    {
      "cell_type": "markdown",
      "metadata": {
        "id": "Fwf3fx-s6N7p"
      },
      "source": [
        "## 3.1 Define the Model\n",
        "\n",
        "Run the following cell to define ```batch_size```, ```num_classes```, and ```epochs```. Try changing the values and test how different values affect the accuracy of the CNN model."
      ]
    },
    {
      "cell_type": "code",
      "execution_count": 38,
      "metadata": {
        "id": "3BSgPmfd6N7p"
      },
      "outputs": [],
      "source": [
        "batch_size = 64\n",
        "num_classes = 10\n",
        "epochs = 5"
      ]
    },
    {
      "cell_type": "markdown",
      "metadata": {
        "id": "PDPl3f8c6N7q"
      },
      "source": [
        "Run the following cell to build the model. The model contains various layers stacked on top of each other. The output of one layer feeds into the input of the next layer.\n",
        "\n",
        "Conv2D layers are convolutions. Each filter (32 in the first two convolution layers and 64 in the next two convolution layers) transforms a part of the image (5x5 for the first two Conv2D layers and 3x3 for the next two Conv2D layers). The transformation is applied on the whole image.\n",
        "\n",
        "MaxPool2D is a downsampling filter. It reduces a 2x2 matrix of the image to a single pixel with the maximum value of the 2x2 matrix. The filter aims to conserve the main features of the image while reducing the size.\n",
        "\n",
        "Dropout is a regularization layer. In our model, 25% of the nodes in the layer are randomly ignores, allowing the network to learn different features. This prevents overfitting.\n",
        "\n",
        "```relu``` is the rectifier, and it is used to find nonlinearity in the data. It works by returning the input value if the input value >= 0. If the input is negative, it returns 0.\n",
        "\n",
        "Flatten converts the tensors into a 1D vector.\n",
        "\n",
        "The Dense layers are an artificial neural network (ANN). The last layer returns the probability that an image is in each class (one for each digit).\n",
        "\n",
        "As this model aims to categorize the images, we will use a ```categorical_crossentropy``` loss function. "
      ]
    },
    {
      "cell_type": "code",
      "source": [
        "numberOfHiddenLayers = 2  #default = 5, if 0 then useSVM=True\n",
        "generateLargeNetworkUntrained = True\n",
        "useSparsity = True\n",
        "if(useSparsity):\n",
        "  sparsityProbabilityOfConnection = 0.1 #1-sparsity\n",
        "addSkipLayers = False\n",
        "if(numberOfHiddenLayers > 1):\n",
        "  addSkipLayers = False #True  #optional\n",
        "\n",
        "if(generateLargeNetworkUntrained):\n",
        "  generateNetworkUntrained = True\n",
        "  largeNetworkRatio = 10 #0.2 #1  #10  #100\n",
        "  generateLargeNetworkExpansion = False\n",
        "  if(generateLargeNetworkExpansion):\n",
        "    generateLargeNetworkRatioExponential = False\n",
        "else:\n",
        "  generateNetworkUntrained = False\n",
        "  generateLargeNetworkRatio = False\n",
        "\n",
        "def kernelInitializerWithSparsity(shape, dtype=None):\n",
        "  initialisedWeights = tf.random.normal(shape, dtype=dtype) #change to glorot_uniform?\n",
        "  sparsityMatrixMask = tf.random.uniform(shape, minval=0.0, maxval=1.0, dtype=tf.dtypes.float32)\n",
        "  sparsityMatrixMask = tf.math.less(sparsityMatrixMask, sparsityProbabilityOfConnection)\n",
        "  sparsityMatrixMask = tf.cast(sparsityMatrixMask, dtype=tf.dtypes.float32)\n",
        "  initialisedWeights = tf.multiply(initialisedWeights, sparsityMatrixMask)\n",
        "  return initialisedWeights\n",
        "if(useSparsity):\n",
        "  kernelInitializer = kernelInitializerWithSparsity\n",
        "else:\n",
        "  kernelInitializer = 'glorot_uniform'\n",
        "    \n",
        "\n",
        "def getLayerRatio(layerIndex):\n",
        "  layerRatio = 1\n",
        "  if(generateLargeNetworkUntrained):\n",
        "    if(generateLargeNetworkExpansion):\n",
        "      if(generateLargeNetworkRatioExponential):\n",
        "        layerRatio = largeNetworkRatio**layerIndex\n",
        "      else:\n",
        "        layerRatio = largeNetworkRatio * layerIndex\n",
        "    else:\n",
        "      layerRatio = largeNetworkRatio\n",
        "  else:\n",
        "    layerRatio = 1\n",
        "  return layerRatio #int(layerRatio)"
      ],
      "metadata": {
        "id": "g1nsCC6CGqM6"
      },
      "execution_count": 39,
      "outputs": []
    },
    {
      "cell_type": "code",
      "execution_count": 40,
      "metadata": {
        "id": "OLN-jkxg6N7q",
        "colab": {
          "base_uri": "https://localhost:8080/"
        },
        "outputId": "2270b050-ed06-4e07-e191-7bd2b4883e9b"
      },
      "outputs": [
        {
          "output_type": "stream",
          "name": "stdout",
          "text": [
            "Model: \"model_2\"\n",
            "_________________________________________________________________\n",
            " Layer (type)                Output Shape              Param #   \n",
            "=================================================================\n",
            " input_3 (InputLayer)        [(None, 28, 28, 1)]       0         \n",
            "                                                                 \n",
            " conv2d_4 (Conv2D)           (None, 28, 28, 320)       8320      \n",
            "                                                                 \n",
            " conv2d_5 (Conv2D)           (None, 28, 28, 320)       2560320   \n",
            "                                                                 \n",
            " max_pooling2d_2 (MaxPooling  (None, 14, 14, 320)      0         \n",
            " 2D)                                                             \n",
            "                                                                 \n",
            " dropout_2 (Dropout)         (None, 14, 14, 320)       0         \n",
            "                                                                 \n",
            " flatten_2 (Flatten)         (None, 62720)             0         \n",
            "                                                                 \n",
            " lambda_2 (Lambda)           (None, 62720)             0         \n",
            "                                                                 \n",
            " dense_2 (Dense)             (None, 10)                627210    \n",
            "                                                                 \n",
            "=================================================================\n",
            "Total params: 3,195,850\n",
            "Trainable params: 3,195,850\n",
            "Non-trainable params: 0\n",
            "_________________________________________________________________\n",
            "None\n"
          ]
        }
      ],
      "source": [
        "\n",
        "x = tf.keras.layers.Input(shape=input_shape)\n",
        "hLast = x\n",
        "if(numberOfHiddenLayers >= 1):\n",
        "  layerRatio = getLayerRatio(1)\n",
        "  h1 = tf.keras.layers.Conv2D(32*layerRatio, (5,5), kernel_initializer=kernelInitializer, padding='same', activation='relu')(x)\n",
        "  hLast = h1\n",
        "if(numberOfHiddenLayers >= 2):\n",
        "  layerRatio = getLayerRatio(2)\n",
        "  h2 = tf.keras.layers.Conv2D(32*layerRatio, (5,5), kernel_initializer=kernelInitializer, padding='same', activation='relu')(h1)\n",
        "  h2 = tf.keras.layers.MaxPool2D()(h2)\n",
        "  h2 = tf.keras.layers.Dropout(0.25)(h2)\n",
        "  hLast = h2\n",
        "if(numberOfHiddenLayers >= 3):\n",
        "  layerRatio = getLayerRatio(3)\n",
        "  h3 = tf.keras.layers.Conv2D(32*layerRatio, (3,3), kernel_initializer=kernelInitializer, padding='same', activation='relu')(h2)\n",
        "  hLast = h3\n",
        "if(numberOfHiddenLayers >= 4):\n",
        "  layerRatio = getLayerRatio(4)\n",
        "  h4 = tf.keras.layers.Conv2D(32*layerRatio, (3,3), kernel_initializer=kernelInitializer, padding='same', activation='relu')(h3)\n",
        "  h4 = tf.keras.layers.MaxPool2D(strides=(2,2))(h4)\n",
        "  h4 = tf.keras.layers.Flatten()(h4)\n",
        "  hLast = h4\n",
        "if(numberOfHiddenLayers >= 5):\n",
        "  layerRatio = getLayerRatio(5)\n",
        "  h5 = tf.keras.layers.Dense(128*layerRatio, kernel_initializer=kernelInitializer, activation='relu')(h4)\n",
        "  h5 = tf.keras.layers.Dropout(0.5)(h5)\n",
        "  hLast = h5\n",
        "if(addSkipLayers):\n",
        "  mList = []\n",
        "  if(numberOfHiddenLayers >= 1):\n",
        "    m1 = tf.keras.layers.Flatten()(h1)\n",
        "    mList.append(m1)\n",
        "  if(numberOfHiddenLayers >= 2):\n",
        "    m2 = tf.keras.layers.Flatten()(h2)\n",
        "    mList.append(m2)\n",
        "  if(numberOfHiddenLayers >= 3):\n",
        "    m3 = tf.keras.layers.Flatten()(h3)\n",
        "    mList.append(m3)\n",
        "  if(numberOfHiddenLayers >= 4):\n",
        "    m4 = tf.keras.layers.Flatten()(h4)\n",
        "    mList.append(m4)\n",
        "  if(numberOfHiddenLayers >= 5):\n",
        "    m5 = h5\n",
        "    mList.append(m5)\n",
        "  hLast = tf.keras.layers.concatenate(mList)\n",
        "hLast = tf.keras.layers.Flatten()(hLast)  #flatten hLast if necessary (ie numberOfHiddenLayers <4)\n",
        "if(generateNetworkUntrained):\n",
        "  hLast = tf.keras.layers.Lambda(lambda x: tf.keras.backend.stop_gradient(x))(hLast)\n",
        "y = tf.keras.layers.Dense(num_classes, activation='softmax')(hLast)\n",
        "model = tf.keras.Model(x, y)\n",
        "\n",
        "print(model.summary())\n",
        "\n",
        "model.compile(optimizer=tf.keras.optimizers.RMSprop(epsilon=1e-08), loss='categorical_crossentropy', metrics=['acc'])\n"
      ]
    },
    {
      "cell_type": "markdown",
      "metadata": {
        "id": "HDeOzJFI6N7r"
      },
      "source": [
        "## 3.2 Fit the Training Data\n",
        "\n",
        "The next step is to fit our training data. If we achieve a certain level of accuracy, it may not be necessary to continue training the model, especially if time and resources are limited.\n",
        "\n",
        "The following cell defines a CallBack so that if 99.5% accuracy is achieved, the model stops training. The model is not likely to stop prematurely if only 5 epochs are specified. Try it out with more epochs."
      ]
    },
    {
      "cell_type": "code",
      "execution_count": 41,
      "metadata": {
        "id": "KM1t_AIX6N7r"
      },
      "outputs": [],
      "source": [
        "class myCallback(tf.keras.callbacks.Callback):\n",
        "  def on_epoch_end(self, epoch, logs={}):\n",
        "    if(logs.get('acc')>0.995):\n",
        "      print(\"\\nReached 99.5% accuracy so cancelling training!\")\n",
        "      self.model.stop_training = True\n",
        "\n",
        "callbacks = myCallback()"
      ]
    },
    {
      "cell_type": "markdown",
      "metadata": {
        "id": "u3-Edk1Q6N7s"
      },
      "source": [
        "Testing the model on a validation dataset prevents overfitting of the data. We specified a 10% validation and 90% training split."
      ]
    },
    {
      "cell_type": "code",
      "execution_count": 42,
      "metadata": {
        "colab": {
          "base_uri": "https://localhost:8080/"
        },
        "id": "F9ocCw_T6N7s",
        "outputId": "3e0ad09c-3f07-4826-df72-f261d70fcfaf"
      },
      "outputs": [
        {
          "output_type": "stream",
          "name": "stdout",
          "text": [
            "Epoch 1/5\n",
            "WARNING:tensorflow:Gradients do not exist for variables ['conv2d_4/kernel:0', 'conv2d_4/bias:0', 'conv2d_5/kernel:0', 'conv2d_5/bias:0'] when minimizing the loss. If you're using `model.compile()`, did you forget to provide a `loss`argument?\n",
            "WARNING:tensorflow:Gradients do not exist for variables ['conv2d_4/kernel:0', 'conv2d_4/bias:0', 'conv2d_5/kernel:0', 'conv2d_5/bias:0'] when minimizing the loss. If you're using `model.compile()`, did you forget to provide a `loss`argument?\n",
            "844/844 [==============================] - 3719s 4s/step - loss: 26.7005 - acc: 0.8722 - val_loss: 16.7008 - val_acc: 0.9218\n",
            "Epoch 2/5\n",
            "844/844 [==============================] - 3723s 4s/step - loss: 12.3760 - acc: 0.9375 - val_loss: 5.9362 - val_acc: 0.9698\n",
            "Epoch 3/5\n",
            "844/844 [==============================] - 3723s 4s/step - loss: 9.9141 - acc: 0.9506 - val_loss: 8.5474 - val_acc: 0.9637\n",
            "Epoch 4/5\n",
            "844/844 [==============================] - 3749s 4s/step - loss: 8.5659 - acc: 0.9583 - val_loss: 6.8046 - val_acc: 0.9680\n",
            "Epoch 5/5\n",
            "844/844 [==============================] - 3717s 4s/step - loss: 7.1498 - acc: 0.9631 - val_loss: 6.9997 - val_acc: 0.9700\n"
          ]
        }
      ],
      "source": [
        "history = model.fit(x_train, y_train,\n",
        "                    batch_size=batch_size,\n",
        "                    epochs=epochs,\n",
        "                    validation_split=0.1,\n",
        "                    callbacks=[callbacks])"
      ]
    },
    {
      "cell_type": "markdown",
      "metadata": {
        "id": "Rr34Iqnn6N7s"
      },
      "source": [
        "# 4. Evaluate the Model"
      ]
    },
    {
      "cell_type": "markdown",
      "metadata": {
        "id": "Nqvc6ES76N7s"
      },
      "source": [
        "## 4.1 Loss and Accuracy Curves\n",
        "\n",
        "Run the following cell to evaluate the loss and accuracy of our model."
      ]
    },
    {
      "cell_type": "code",
      "execution_count": 43,
      "metadata": {
        "id": "BuCQbNgW6N7s",
        "colab": {
          "base_uri": "https://localhost:8080/",
          "height": 265
        },
        "outputId": "fb72f4cc-1699-416b-c085-f25cf845bcca"
      },
      "outputs": [
        {
          "output_type": "display_data",
          "data": {
            "image/png": "[encoded data removed]",
            "text/plain": [
              "<Figure size 432x288 with 2 Axes>"
            ]
          },
          "metadata": {
            "needs_background": "light"
          }
        }
      ],
      "source": [
        "fig, ax = plt.subplots(2,1)\n",
        "ax[0].plot(history.history['loss'], color='b', label=\"Training Loss\")\n",
        "ax[0].plot(history.history['val_loss'], color='r', label=\"Validation Loss\",axes =ax[0])\n",
        "legend = ax[0].legend(loc='best', shadow=True)\n",
        "\n",
        "ax[1].plot(history.history['acc'], color='b', label=\"Training Accuracy\")\n",
        "ax[1].plot(history.history['val_acc'], color='r',label=\"Validation Accuracy\")\n",
        "legend = ax[1].legend(loc='best', shadow=True)"
      ]
    },
    {
      "cell_type": "markdown",
      "metadata": {
        "id": "V5ChJfLQ6N7u"
      },
      "source": [
        "The accuracy increases over time and the loss decreases over time. However, the accuracy of our validation set seems to slightly decrease towards the end even thought our training accuracy increased. Running the model for more epochs might cause our model to be susceptible to overfitting."
      ]
    },
    {
      "cell_type": "markdown",
      "metadata": {
        "id": "L6JiUyTe6N7u"
      },
      "source": [
        "## 4.2 Predict Results"
      ]
    },
    {
      "cell_type": "code",
      "execution_count": 44,
      "metadata": {
        "id": "7Jz4oEW06N7u",
        "colab": {
          "base_uri": "https://localhost:8080/"
        },
        "outputId": "d50187b1-409b-4051-f0fe-b576da933855"
      },
      "outputs": [
        {
          "output_type": "stream",
          "name": "stdout",
          "text": [
            "313/313 [==============================] - 707s 2s/step - loss: 6.4486 - acc: 0.9680\n"
          ]
        }
      ],
      "source": [
        "test_loss, test_acc = model.evaluate(x_test, y_test)"
      ]
    },
    {
      "cell_type": "markdown",
      "metadata": {
        "id": "dozTBo5G6N7v"
      },
      "source": [
        "Our model runs pretty well, with an accuracy of 99.3% on our testing data."
      ]
    },
    {
      "cell_type": "markdown",
      "metadata": {
        "id": "Qg6DZgcv6N7v"
      },
      "source": [
        "## 4.3 Confusion Matrix\n",
        "\n",
        "Run the following cell to compute our confusion matrix using TensorFlow."
      ]
    },
    {
      "cell_type": "code",
      "execution_count": 45,
      "metadata": {
        "id": "2EUqmdvq6N7v"
      },
      "outputs": [],
      "source": [
        "# Predict the values from the testing dataset\n",
        "Y_pred = model.predict(x_test)\n",
        "# Convert predictions classes to one hot vectors \n",
        "Y_pred_classes = np.argmax(Y_pred,axis = 1) \n",
        "# Convert testing observations to one hot vectors\n",
        "Y_true = np.argmax(y_test,axis = 1)\n",
        "# compute the confusion matrix\n",
        "confusion_mtx = tf.math.confusion_matrix(Y_true, Y_pred_classes) "
      ]
    },
    {
      "cell_type": "markdown",
      "metadata": {
        "id": "LZjDurLZ6N7v"
      },
      "source": [
        "Run the following cell to plot the confusion matrix."
      ]
    },
    {
      "cell_type": "code",
      "execution_count": 46,
      "metadata": {
        "id": "9ytj2AMX6N7w",
        "colab": {
          "base_uri": "https://localhost:8080/",
          "height": 500
        },
        "outputId": "da834ce3-4d5e-4df5-beec-02dba38c44ad"
      },
      "outputs": [
        {
          "output_type": "execute_result",
          "data": {
            "text/plain": [
              "<matplotlib.axes._subplots.AxesSubplot at 0x7f77a8a9f950>"
            ]
          },
          "metadata": {},
          "execution_count": 46
        },
        {
          "output_type": "display_data",
          "data": {
            "image/png": "[encoded data removed]",
            "text/plain": [
              "<Figure size 720x576 with 2 Axes>"
            ]
          },
          "metadata": {
            "needs_background": "light"
          }
        }
      ],
      "source": [
        "plt.figure(figsize=(10, 8))\n",
        "sns.heatmap(confusion_mtx, annot=True, fmt='g')"
      ]
    },
    {
      "cell_type": "markdown",
      "metadata": {
        "id": "J7AQaxdS6N7w"
      },
      "source": [
        "There seems to be a slightly higher confusion between (0,6) and (4,9). This is reasonable as 0's and 6's look similar with their loops and 4's and 9's can be mistaken when the 4's are more rounded and 9's are more angular."
      ]
    }
  ],
  "metadata": {
    "colab": {
      "collapsed_sections": [],
      "name": "MNISTlargeUntrainedNetCNN.ipynb",
      "provenance": []
    },
    "kernelspec": {
      "display_name": "Python 3",
      "language": "python",
      "name": "python3"
    },
    "language_info": {
      "codemirror_mode": {
        "name": "ipython",
        "version": 3
      },
      "file_extension": ".py",
      "mimetype": "text/x-python",
      "name": "python",
      "nbconvert_exporter": "python",
      "pygments_lexer": "ipython3",
      "version": "3.7.6"
    }
  },
  "nbformat": 4,
  "nbformat_minor": 0
}