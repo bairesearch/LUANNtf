{
  "cells": [
    {
      "cell_type": "markdown",
      "metadata": {
        "id": "9fyMqv0I6N7V"
      },
      "source": [
        "# MNIST Large Untrained Net CNN"
      ]
    },
    {
      "cell_type": "markdown",
      "metadata": {
        "id": "3NsNdTaCSv_5"
      },
      "source": [
        "Derived from https://www.kaggle.com/code/amyjang/tensorflow-mnist-cnn-tutorial/notebook"
      ]
    },
    {
      "cell_type": "code",
      "execution_count": 13,
      "metadata": {
        "colab": {
          "base_uri": "https://localhost:8080/"
        },
        "id": "DhS7EGDb6N7c",
        "outputId": "7de82c59-7ece-4747-f045-0bd224ad745e"
      },
      "outputs": [
        {
          "output_type": "stream",
          "name": "stdout",
          "text": [
            "2.8.2\n"
          ]
        }
      ],
      "source": [
        "import tensorflow as tf\n",
        "import seaborn as sns\n",
        "import numpy as np\n",
        "import pandas as pd\n",
        "import matplotlib.pyplot as plt\n",
        "import matplotlib.image as mpimg\n",
        "\n",
        "print(tf.__version__)"
      ]
    },
    {
      "cell_type": "markdown",
      "source": [
        "## Load data"
      ],
      "metadata": {
        "id": "LmiMWmaOTS5N"
      }
    },
    {
      "cell_type": "code",
      "execution_count": 14,
      "metadata": {
        "id": "8efB13kY6N7g"
      },
      "outputs": [],
      "source": [
        "mnist = tf.keras.datasets.mnist\n",
        "(x_train, y_train), (x_test, y_test) = mnist.load_data()"
      ]
    },
    {
      "cell_type": "code",
      "execution_count": 15,
      "metadata": {
        "id": "jV3cgXgP6N7m"
      },
      "outputs": [],
      "source": [
        "input_shape = (28, 28, 1)\n",
        "\n",
        "x_train=x_train.reshape(x_train.shape[0], x_train.shape[1], x_train.shape[2], 1)\n",
        "x_train=x_train / 255.0\n",
        "x_test = x_test.reshape(x_test.shape[0], x_test.shape[1], x_test.shape[2], 1)\n",
        "x_test=x_test/255.0"
      ]
    },
    {
      "cell_type": "code",
      "execution_count": 16,
      "metadata": {
        "id": "N60OSnQM6N7n"
      },
      "outputs": [],
      "source": [
        "y_train = tf.one_hot(y_train.astype(np.int32), depth=10)\n",
        "y_test = tf.one_hot(y_test.astype(np.int32), depth=10)"
      ]
    },
    {
      "cell_type": "code",
      "execution_count": 17,
      "metadata": {
        "colab": {
          "base_uri": "https://localhost:8080/",
          "height": 282
        },
        "id": "0dMzhGd16N7o",
        "outputId": "68ece457-55b3-4323-9e0d-20c2ab6c0389"
      },
      "outputs": [
        {
          "output_type": "stream",
          "name": "stdout",
          "text": [
            "tf.Tensor([0. 0. 0. 0. 0. 1. 0. 0. 0. 0.], shape=(10,), dtype=float32)\n"
          ]
        },
        {
          "output_type": "display_data",
          "data": {
            "text/plain": [
              "<Figure size 432x288 with 1 Axes>"
            ],
            "image/png": "[encoded data removed]"
          },
          "metadata": {
            "needs_background": "light"
          }
        }
      ],
      "source": [
        "plt.imshow(x_train[100][:,:,0])\n",
        "print(y_train[100])"
      ]
    },
    {
      "cell_type": "markdown",
      "metadata": {
        "id": "VkI6R7p_6N7p"
      },
      "source": [
        "## Define model"
      ]
    },
    {
      "cell_type": "code",
      "execution_count": 18,
      "metadata": {
        "id": "3BSgPmfd6N7p"
      },
      "outputs": [],
      "source": [
        "batch_size = 64\n",
        "num_classes = 10\n",
        "epochs = 5"
      ]
    },
    {
      "cell_type": "code",
      "source": [
        "numberOfHiddenLayers = 2    #default = 5, if 0 then useSVM=True\n",
        "generateLargeNetworkUntrained = True\n",
        "useSparsity = True\n",
        "if(useSparsity):\n",
        "    sparsityProbabilityOfConnection = 0.1 #1-sparsity\n",
        "addSkipLayers = False\n",
        "if(numberOfHiddenLayers > 1):\n",
        "    addSkipLayers = False #True    #optional\n",
        "\n",
        "if(generateLargeNetworkUntrained):\n",
        "    generateNetworkUntrained = True\n",
        "    largeNetworkRatio = 10 #0.2 #1    #10    #100\n",
        "    generateLargeNetworkExpansion = False\n",
        "    if(generateLargeNetworkExpansion):\n",
        "        generateLargeNetworkRatioExponential = False\n",
        "else:\n",
        "    generateNetworkUntrained = False\n",
        "    generateLargeNetworkRatio = False\n",
        "\n",
        "def kernelInitializerWithSparsity(shape, dtype=None):\n",
        "    initialisedWeights = tf.random.normal(shape, dtype=dtype) #change to glorot_uniform?\n",
        "    sparsityMatrixMask = tf.random.uniform(shape, minval=0.0, maxval=1.0, dtype=tf.dtypes.float32)\n",
        "    sparsityMatrixMask = tf.math.less(sparsityMatrixMask, sparsityProbabilityOfConnection)\n",
        "    sparsityMatrixMask = tf.cast(sparsityMatrixMask, dtype=tf.dtypes.float32)\n",
        "    initialisedWeights = tf.multiply(initialisedWeights, sparsityMatrixMask)\n",
        "    return initialisedWeights\n",
        "if(useSparsity):\n",
        "    kernelInitializer = kernelInitializerWithSparsity\n",
        "else:\n",
        "    kernelInitializer = 'glorot_uniform'\n",
        "        \n",
        "\n",
        "def getLayerRatio(layerIndex):\n",
        "    layerRatio = 1\n",
        "    if(generateLargeNetworkUntrained):\n",
        "        if(generateLargeNetworkExpansion):\n",
        "            if(generateLargeNetworkRatioExponential):\n",
        "                layerRatio = largeNetworkRatio**layerIndex\n",
        "            else:\n",
        "                layerRatio = largeNetworkRatio * layerIndex\n",
        "        else:\n",
        "            layerRatio = largeNetworkRatio\n",
        "    else:\n",
        "        layerRatio = 1\n",
        "    return layerRatio #int(layerRatio)"
      ],
      "metadata": {
        "id": "g1nsCC6CGqM6"
      },
      "execution_count": 19,
      "outputs": []
    },
    {
      "cell_type": "code",
      "execution_count": 20,
      "metadata": {
        "id": "OLN-jkxg6N7q",
        "colab": {
          "base_uri": "https://localhost:8080/"
        },
        "outputId": "c46da8f6-314c-414f-9cbc-b50e2188f83f"
      },
      "outputs": [
        {
          "output_type": "stream",
          "name": "stdout",
          "text": [
            "Model: \"model_1\"\n",
            "_________________________________________________________________\n",
            " Layer (type)                Output Shape              Param #   \n",
            "=================================================================\n",
            " input_2 (InputLayer)        [(None, 28, 28, 1)]       0         \n",
            "                                                                 \n",
            " conv2d_2 (Conv2D)           (None, 28, 28, 320)       8320      \n",
            "                                                                 \n",
            " conv2d_3 (Conv2D)           (None, 28, 28, 320)       2560320   \n",
            "                                                                 \n",
            " max_pooling2d_1 (MaxPooling  (None, 14, 14, 320)      0         \n",
            " 2D)                                                             \n",
            "                                                                 \n",
            " dropout_1 (Dropout)         (None, 14, 14, 320)       0         \n",
            "                                                                 \n",
            " flatten_1 (Flatten)         (None, 62720)             0         \n",
            "                                                                 \n",
            " lambda (Lambda)             (None, 62720)             0         \n",
            "                                                                 \n",
            " dense_1 (Dense)             (None, 10)                627210    \n",
            "                                                                 \n",
            "=================================================================\n",
            "Total params: 3,195,850\n",
            "Trainable params: 3,195,850\n",
            "Non-trainable params: 0\n",
            "_________________________________________________________________\n",
            "None\n"
          ]
        }
      ],
      "source": [
        "\n",
        "x = tf.keras.layers.Input(shape=input_shape)\n",
        "hLast = x\n",
        "if(numberOfHiddenLayers >= 1):\n",
        "    layerRatio = getLayerRatio(1)\n",
        "    h1 = tf.keras.layers.Conv2D(32*layerRatio, (5,5), kernel_initializer=kernelInitializer, padding='same', activation='relu')(x)\n",
        "    hLast = h1\n",
        "if(numberOfHiddenLayers >= 2):\n",
        "    layerRatio = getLayerRatio(2)\n",
        "    h2 = tf.keras.layers.Conv2D(32*layerRatio, (5,5), kernel_initializer=kernelInitializer, padding='same', activation='relu')(h1)\n",
        "    h2 = tf.keras.layers.MaxPool2D()(h2)\n",
        "    h2 = tf.keras.layers.Dropout(0.25)(h2)\n",
        "    hLast = h2\n",
        "if(numberOfHiddenLayers >= 3):\n",
        "    layerRatio = getLayerRatio(3)\n",
        "    h3 = tf.keras.layers.Conv2D(32*layerRatio, (3,3), kernel_initializer=kernelInitializer, padding='same', activation='relu')(h2)\n",
        "    hLast = h3\n",
        "if(numberOfHiddenLayers >= 4):\n",
        "    layerRatio = getLayerRatio(4)\n",
        "    h4 = tf.keras.layers.Conv2D(32*layerRatio, (3,3), kernel_initializer=kernelInitializer, padding='same', activation='relu')(h3)\n",
        "    h4 = tf.keras.layers.MaxPool2D(strides=(2,2))(h4)\n",
        "    h4 = tf.keras.layers.Flatten()(h4)\n",
        "    hLast = h4\n",
        "if(numberOfHiddenLayers >= 5):\n",
        "    layerRatio = getLayerRatio(5)\n",
        "    h5 = tf.keras.layers.Dense(128*layerRatio, kernel_initializer=kernelInitializer, activation='relu')(h4)\n",
        "    h5 = tf.keras.layers.Dropout(0.5)(h5)\n",
        "    hLast = h5\n",
        "if(addSkipLayers):\n",
        "    mList = []\n",
        "    if(numberOfHiddenLayers >= 1):\n",
        "        m1 = tf.keras.layers.Flatten()(h1)\n",
        "        mList.append(m1)\n",
        "    if(numberOfHiddenLayers >= 2):\n",
        "        m2 = tf.keras.layers.Flatten()(h2)\n",
        "        mList.append(m2)\n",
        "    if(numberOfHiddenLayers >= 3):\n",
        "        m3 = tf.keras.layers.Flatten()(h3)\n",
        "        mList.append(m3)\n",
        "    if(numberOfHiddenLayers >= 4):\n",
        "        m4 = tf.keras.layers.Flatten()(h4)\n",
        "        mList.append(m4)\n",
        "    if(numberOfHiddenLayers >= 5):\n",
        "        m5 = h5\n",
        "        mList.append(m5)\n",
        "    hLast = tf.keras.layers.concatenate(mList)\n",
        "hLast = tf.keras.layers.Flatten()(hLast)    #flatten hLast if necessary (ie numberOfHiddenLayers <4)\n",
        "if(generateNetworkUntrained):\n",
        "    hLast = tf.keras.layers.Lambda(lambda x: tf.keras.backend.stop_gradient(x))(hLast)\n",
        "y = tf.keras.layers.Dense(num_classes, activation='softmax')(hLast)\n",
        "model = tf.keras.Model(x, y)\n",
        "\n",
        "print(model.summary())\n",
        "\n",
        "model.compile(optimizer=tf.keras.optimizers.RMSprop(epsilon=1e-08), loss='categorical_crossentropy', metrics=['acc'])\n"
      ]
    },
    {
      "cell_type": "code",
      "execution_count": 21,
      "metadata": {
        "id": "KM1t_AIX6N7r"
      },
      "outputs": [],
      "source": [
        "class myCallback(tf.keras.callbacks.Callback):\n",
        "    def on_epoch_end(self, epoch, logs={}):\n",
        "        if(logs.get('acc')>0.995):\n",
        "            print(\"\\nReached 99.5% accuracy so cancelling training!\")\n",
        "            self.model.stop_training = True\n",
        "\n",
        "callbacks = myCallback()"
      ]
    },
    {
      "cell_type": "markdown",
      "source": [
        "## Train model"
      ],
      "metadata": {
        "id": "PNgqt4qKTu2x"
      }
    },
    {
      "cell_type": "code",
      "execution_count": 22,
      "metadata": {
        "colab": {
          "base_uri": "https://localhost:8080/"
        },
        "id": "F9ocCw_T6N7s",
        "outputId": "ca0d8679-9a1b-4ec2-8a14-2b2d1e6cd5e0"
      },
      "outputs": [
        {
          "output_type": "stream",
          "name": "stdout",
          "text": [
            "Epoch 1/5\n"
          ]
        },
        {
          "output_type": "stream",
          "name": "stderr",
          "text": [
            "WARNING:tensorflow:Gradients do not exist for variables ['conv2d_2/kernel:0', 'conv2d_2/bias:0', 'conv2d_3/kernel:0', 'conv2d_3/bias:0'] when minimizing the loss. If you're using `model.compile()`, did you forget to provide a `loss`argument?\n",
            "WARNING:tensorflow:Gradients do not exist for variables ['conv2d_2/kernel:0', 'conv2d_2/bias:0', 'conv2d_3/kernel:0', 'conv2d_3/bias:0'] when minimizing the loss. If you're using `model.compile()`, did you forget to provide a `loss`argument?\n"
          ]
        },
        {
          "output_type": "stream",
          "name": "stdout",
          "text": [
            "844/844 [==============================] - 3785s 4s/step - loss: 32.2363 - acc: 0.8625 - val_loss: 6.5978 - val_acc: 0.9703\n",
            "Epoch 2/5\n",
            "844/844 [==============================] - 3875s 5s/step - loss: 14.8020 - acc: 0.9312 - val_loss: 6.3840 - val_acc: 0.9715\n",
            "Epoch 3/5\n",
            "844/844 [==============================] - 3737s 4s/step - loss: 11.6696 - acc: 0.9475 - val_loss: 9.5686 - val_acc: 0.9590\n",
            "Epoch 4/5\n",
            "844/844 [==============================] - 3747s 4s/step - loss: 9.6248 - acc: 0.9552 - val_loss: 10.1087 - val_acc: 0.9542\n",
            "Epoch 5/5\n",
            "844/844 [==============================] - 3741s 4s/step - loss: 9.0170 - acc: 0.9605 - val_loss: 9.4287 - val_acc: 0.9650\n"
          ]
        }
      ],
      "source": [
        "history = model.fit(x_train, y_train,\n",
        "                    batch_size=batch_size,\n",
        "                    epochs=epochs,\n",
        "                    validation_split=0.1,\n",
        "                    callbacks=[callbacks])"
      ]
    },
    {
      "cell_type": "markdown",
      "metadata": {
        "id": "Rr34Iqnn6N7s"
      },
      "source": [
        "## Evaluate model"
      ]
    },
    {
      "cell_type": "code",
      "execution_count": 23,
      "metadata": {
        "id": "BuCQbNgW6N7s",
        "colab": {
          "base_uri": "https://localhost:8080/",
          "height": 265
        },
        "outputId": "a55eadbd-fd2f-4fef-c6ba-b2596a679d7d"
      },
      "outputs": [
        {
          "output_type": "display_data",
          "data": {
            "text/plain": [
              "<Figure size 432x288 with 2 Axes>"
            ],
            "image/png": "[encoded data removed]"
          },
          "metadata": {
            "needs_background": "light"
          }
        }
      ],
      "source": [
        "fig, ax = plt.subplots(2,1)\n",
        "ax[0].plot(history.history['loss'], color='b', label=\"Training Loss\")\n",
        "ax[0].plot(history.history['val_loss'], color='r', label=\"Validation Loss\",axes =ax[0])\n",
        "legend = ax[0].legend(loc='best', shadow=True)\n",
        "\n",
        "ax[1].plot(history.history['acc'], color='b', label=\"Training Accuracy\")\n",
        "ax[1].plot(history.history['val_acc'], color='r',label=\"Validation Accuracy\")\n",
        "legend = ax[1].legend(loc='best', shadow=True)"
      ]
    },
    {
      "cell_type": "code",
      "execution_count": 24,
      "metadata": {
        "id": "7Jz4oEW06N7u",
        "colab": {
          "base_uri": "https://localhost:8080/"
        },
        "outputId": "a2102d85-d71e-4062-cd3b-a2cc0d80b7d7"
      },
      "outputs": [
        {
          "output_type": "stream",
          "name": "stdout",
          "text": [
            "313/313 [==============================] - 632s 2s/step - loss: 10.7822 - acc: 0.9558\n"
          ]
        }
      ],
      "source": [
        "test_loss, test_acc = model.evaluate(x_test, y_test)"
      ]
    }
  ],
  "metadata": {
    "colab": {
      "collapsed_sections": [],
      "provenance": []
    },
    "kernelspec": {
      "display_name": "Python 3",
      "language": "python",
      "name": "python3"
    },
    "language_info": {
      "codemirror_mode": {
        "name": "ipython",
        "version": 3
      },
      "file_extension": ".py",
      "mimetype": "text/x-python",
      "name": "python",
      "nbconvert_exporter": "python",
      "pygments_lexer": "ipython3",
      "version": "3.7.6"
    }
  },
  "nbformat": 4,
  "nbformat_minor": 0
}